{
 "cells": [
  {
   "cell_type": "code",
   "execution_count": 1,
   "metadata": {},
   "outputs": [
    {
     "name": "stderr",
     "output_type": "stream",
     "text": [
      "c:\\ProgramData\\miniconda3\\envs\\ssgetpy\\lib\\site-packages\\tqdm\\auto.py:22: TqdmWarning: IProgress not found. Please update jupyter and ipywidgets. See https://ipywidgets.readthedocs.io/en/stable/user_install.html\n",
      "  from .autonotebook import tqdm as notebook_tqdm\n"
     ]
    }
   ],
   "source": [
    "import ssgetpy"
   ]
  },
  {
   "cell_type": "markdown",
   "metadata": {},
   "source": [
    "Notice that search result comes with minimal Jupyter integration that shows some metadata along with the distribution of the non-zero values. Click on the group or name link to go a web page in the SuiteSparse matrix collection that has much more information about the group or the matrix respectively.\n",
    "\n",
    "### Query filters\n",
    "\n",
    "You can add more filters via keyword arguments as follows:\n",
    "\n",
    "|Argument | Description | Type | Default | Notes |\n",
    "|---------|-------------|------|---------|-------| \n",
    "|`rowbounds` | Number of rows | `tuple`: `(min_value, max_value)` | `(None, None)`| `min_value` or `max_value` can be `None` which implies \"don't care\" |\n",
    "|`colbounds` | Number of columns | `tuple`: `(min_value, max_value)` | `(None, None)` | |\n",
    "|`nzbounds`  | Number of non-zeros | `tuple`: `(min_value, max_value)` | `(None, None)`| |\n",
    "|`isspd`     | SPD? | `bool` or `None` | `None` | `None` implies \"don't care\" |\n",
    "|`is2d3d` | 2D/3D Discretization? | `bool` or `None` | `None` | |\n",
    "| `dtype` | Non-zero data type | `real`, `complex`, `binary` or `None` | `None` | |\n",
    "| `group` | Matrix group | `str` or `None` | `None` | Supports partial matches; `None` implies \"don't care\" |\n",
    "| `kind` | Problem domain | `str` or `None` | `None` | Supports partial matches; `None` implies \"don't care\" |\n",
    "| `limit` | Max number of results | `int` | 10 | |\n",
    "\n",
    "> Note that numerical and pattern symmetry filters are not yet supported.\n",
    "\n",
    "As an example of using the above filters, here is a query that returns five, non-SPD matrices with $1000\\leq \\text{NNZ} \\leq 10000$:"
   ]
  },
  {
   "cell_type": "code",
   "execution_count": 2,
   "metadata": {},
   "outputs": [],
   "source": [
    "# dest_path = '/home/hao/spmv/dataset'\n",
    "name_pattern = 'web'\n",
    "val_type = 'real'"
   ]
  },
  {
   "cell_type": "code",
   "execution_count": 3,
   "metadata": {},
   "outputs": [
    {
     "data": {
      "text/html": [
       "<table><thead><th>Id</th><th>Group</th><th>Name</th><th>Rows</th><th>Cols</th><th>NNZ</th><th>DType</th><th>2D/3D Discretization?</th><th>SPD?</th><th>Pattern Symmetry</th><th>Numerical Symmetry</th><th>Kind</th><th>Spy Plot</th></thead><tbody><tr><td>2379</td><td><a href=\"https://sparse.tamu.edu/Williams\" target=\"_blank\">Williams</a></td><td><a href=\"https://sparse.tamu.edu/Williams/webbase-1M\" target=\"_blank\">webbase-1M</a></td><td>1000005</td><td>1000005</td><td>3105536</td><td>real</td><td>No</td><td>No</td><td>0.096</td><td>0.016</td><td>weighted directed graph</td><td><img src=\"https://sparse.tamu.edu/files/Williams/webbase-1M.png\"></td></tr><tr><td>2853</td><td><a href=\"https://sparse.tamu.edu/GAP\" target=\"_blank\">GAP</a></td><td><a href=\"https://sparse.tamu.edu/GAP/GAP-web\" target=\"_blank\">GAP-web</a></td><td>50636151</td><td>50636151</td><td>1930292948</td><td>real</td><td>No</td><td>No</td><td>0.12</td><td>0.00049</td><td>directed weighted graph</td><td><img src=\"https://sparse.tamu.edu/files/GAP/GAP-web.png\"></td></tr></tbody></table>"
      ],
      "text/plain": [
       "[Matrix(2379, 'Williams', 'webbase-1M', 1000005, 1000005, 3105536, 'real', False, False, 0.09552554676231316, 0.01588957844838191, 'weighted directed graph', 'https://sparse.tamu.edu/files/Williams/webbase-1M.png'),\n",
       " Matrix(2853, 'GAP', 'GAP-web', 50636151, 50636151, 1930292948, 'real', False, False, 0.1245713694644861, 0.0004892386935249789, 'directed weighted graph', 'https://sparse.tamu.edu/files/GAP/GAP-web.png')]"
      ]
     },
     "execution_count": 3,
     "metadata": {},
     "output_type": "execute_result"
    }
   ],
   "source": [
    "web_data = ssgetpy.search(name_or_id=name_pattern, dtype=val_type)"
   ]
  },
  {
   "cell_type": "code",
   "execution_count": 5,
   "metadata": {},
   "outputs": [
    {
     "data": {
      "text/html": [
       "<table><thead><th>Id</th><th>Group</th><th>Name</th><th>Rows</th><th>Cols</th><th>NNZ</th><th>DType</th><th>2D/3D Discretization?</th><th>SPD?</th><th>Pattern Symmetry</th><th>Numerical Symmetry</th><th>Kind</th><th>Spy Plot</th></thead><tbody><tr><td>2379</td><td><a href=\"https://sparse.tamu.edu/Williams\" target=\"_blank\">Williams</a></td><td><a href=\"https://sparse.tamu.edu/Williams/webbase-1M\" target=\"_blank\">webbase-1M</a></td><td>1000005</td><td>1000005</td><td>3105536</td><td>real</td><td>No</td><td>No</td><td>0.096</td><td>0.016</td><td>weighted directed graph</td><td><img src=\"https://sparse.tamu.edu/files/Williams/webbase-1M.png\"></td></tr><tr><td>2853</td><td><a href=\"https://sparse.tamu.edu/GAP\" target=\"_blank\">GAP</a></td><td><a href=\"https://sparse.tamu.edu/GAP/GAP-web\" target=\"_blank\">GAP-web</a></td><td>50636151</td><td>50636151</td><td>1930292948</td><td>real</td><td>No</td><td>No</td><td>0.12</td><td>0.00049</td><td>directed weighted graph</td><td><img src=\"https://sparse.tamu.edu/files/GAP/GAP-web.png\"></td></tr></tbody></table>"
      ],
      "text/plain": [
       "[Matrix(2379, 'Williams', 'webbase-1M', 1000005, 1000005, 3105536, 'real', False, False, 0.09552554676231316, 0.01588957844838191, 'weighted directed graph', 'https://sparse.tamu.edu/files/Williams/webbase-1M.png'),\n",
       " Matrix(2853, 'GAP', 'GAP-web', 50636151, 50636151, 1930292948, 'real', False, False, 0.1245713694644861, 0.0004892386935249789, 'directed weighted graph', 'https://sparse.tamu.edu/files/GAP/GAP-web.png')]"
      ]
     },
     "execution_count": 5,
     "metadata": {},
     "output_type": "execute_result"
    }
   ],
   "source": [
    "# web_data.download(format='MM', destpath=dest_path, extract=True)\n",
    "web_data"
   ]
  },
  {
   "cell_type": "code",
   "execution_count": null,
   "metadata": {},
   "outputs": [],
   "source": [
    "# import os\n",
    "# os.system(\"mv file from folder && rm -rf these_folders\")"
   ]
  }
 ],
 "metadata": {
  "kernelspec": {
   "display_name": "ssgetpy",
   "language": "python",
   "name": "python3"
  },
  "language_info": {
   "codemirror_mode": {
    "name": "ipython",
    "version": 3
   },
   "file_extension": ".py",
   "mimetype": "text/x-python",
   "name": "python",
   "nbconvert_exporter": "python",
   "pygments_lexer": "ipython3",
   "version": "3.10.9"
  },
  "orig_nbformat": 4,
  "vscode": {
   "interpreter": {
    "hash": "ff118ebd8b5ac774cec29637608f885912483bef0482acf69cd9e217614a7649"
   }
  }
 },
 "nbformat": 4,
 "nbformat_minor": 2
}
